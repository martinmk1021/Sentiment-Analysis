{
  "nbformat": 4,
  "nbformat_minor": 0,
  "metadata": {
    "colab": {
      "provenance": [],
      "gpuType": "V28"
    },
    "kernelspec": {
      "name": "python3",
      "display_name": "Python 3"
    },
    "language_info": {
      "name": "python"
    },
    "accelerator": "TPU"
  },
  "cells": [
    {
      "cell_type": "code",
      "execution_count": 4,
      "metadata": {
        "colab": {
          "base_uri": "https://localhost:8080/"
        },
        "id": "tHJvEUpp-tNb",
        "outputId": "c072e387-6c26-4472-9b73-6a64d478c5ea"
      },
      "outputs": [
        {
          "output_type": "stream",
          "name": "stderr",
          "text": [
            "[nltk_data] Downloading package punkt to /root/nltk_data...\n",
            "[nltk_data]   Package punkt is already up-to-date!\n",
            "[nltk_data] Downloading package stopwords to /root/nltk_data...\n",
            "[nltk_data]   Package stopwords is already up-to-date!\n"
          ]
        },
        {
          "output_type": "stream",
          "name": "stdout",
          "text": [
            "Training Data Shape: (3600000, 3)\n",
            "Test Data Shape: (400000, 3)\n"
          ]
        }
      ],
      "source": [
        "import pandas as pd\n",
        "import re\n",
        "import string\n",
        "import nltk\n",
        "from nltk.tokenize import word_tokenize\n",
        "from nltk.corpus import stopwords\n",
        "from nltk.stem import PorterStemmer\n",
        "from sklearn.feature_extraction.text import TfidfVectorizer\n",
        "from sklearn.metrics import classification_report, confusion_matrix, accuracy_score\n",
        "from sklearn.model_selection import cross_val_score, StratifiedKFold\n",
        "import matplotlib.pyplot as plt\n",
        "import seaborn as sns\n",
        "from sklearn.linear_model import LogisticRegression\n",
        "import numpy as np\n",
        "\n",
        "# Download necessary NLTK data\n",
        "nltk.download('punkt')\n",
        "nltk.download('stopwords')\n",
        "\n",
        "# Load the CSV files without headers\n",
        "train_df = pd.read_csv('/content/drive/MyDrive/train.csv', header=None)\n",
        "test_df = pd.read_csv('/content/drive/MyDrive/test.csv', header=None)\n",
        "\n",
        "# Print the shape of the training and test DataFrames\n",
        "print(\"Training Data Shape:\", train_df.shape)\n",
        "print(\"Test Data Shape:\", test_df.shape)\n"
      ]
    },
    {
      "cell_type": "code",
      "source": [
        "\n",
        "# Assign column names\n",
        "train_df.columns = ['label', 'reviewText1', 'reviewText2']\n",
        "test_df.columns = ['label', 'reviewText1', 'reviewText2']\n",
        "\n",
        "# Combine the review columns for both training and test data\n",
        "train_df['combined_text'] = train_df['reviewText1'] + ' ' + train_df['reviewText2']\n",
        "test_df['combined_text'] = test_df['reviewText1'] + ' ' + test_df['reviewText2']\n",
        "\n",
        "# Sample 50% from each class in the training data\n",
        "train_df_sampled = train_df.groupby('label', group_keys=False).apply(lambda x: x.sample(frac=0.5, random_state=42))\n"
      ],
      "metadata": {
        "colab": {
          "base_uri": "https://localhost:8080/"
        },
        "id": "LwCBoKQp_By1",
        "outputId": "1c0eb37a-25ac-4b21-e4a3-7999bf3a85c7"
      },
      "execution_count": 5,
      "outputs": [
        {
          "output_type": "stream",
          "name": "stderr",
          "text": [
            "<ipython-input-5-1ede75064396>:10: DeprecationWarning: DataFrameGroupBy.apply operated on the grouping columns. This behavior is deprecated, and in a future version of pandas the grouping columns will be excluded from the operation. Either pass `include_groups=False` to exclude the groupings or explicitly select the grouping columns after groupby to silence this warning.\n",
            "  train_df_sampled = train_df.groupby('label', group_keys=False).apply(lambda x: x.sample(frac=0.5, random_state=42))\n"
          ]
        }
      ]
    },
    {
      "cell_type": "code",
      "source": [
        "\n",
        "# Initialize the Porter stemmer and load English stopwords\n",
        "stemmer = PorterStemmer()\n",
        "stop_words = set(stopwords.words('english'))\n",
        "\n",
        "# Function to clean the text by removing URLs, handles, and punctuation\n",
        "def clean_text(text):\n",
        "    if isinstance(text, str):\n",
        "        text = text.lower()  # Convert text to lowercase\n",
        "        text = re.sub(r'http\\S+|www\\S+|https\\S+', '', text, flags=re.MULTILINE)  # Remove URLs\n",
        "        text = re.sub(r'@\\w+', '', text)  # Remove handles\n",
        "        text = text.translate(str.maketrans('', '', string.punctuation))  # Remove punctuation\n",
        "        return text\n",
        "    return text  # Return as is if not a string\n",
        "\n",
        "# Function to tokenize the text into individual words\n",
        "def tokenize_text(text):\n",
        "    if isinstance(text, str):\n",
        "        return word_tokenize(text)\n",
        "    return text  # Return as is if not a string\n",
        "\n",
        "# Function to remove stopwords from the tokenized text\n",
        "def remove_stopwords(tokens):\n",
        "    if isinstance(tokens, list):\n",
        "        return [word for word in tokens if word not in stop_words]\n",
        "    return tokens  # Return as is if not a list\n",
        "\n",
        "# Function to apply stemming to the tokens\n",
        "def stem_tokens(tokens):\n",
        "    if isinstance(tokens, list):\n",
        "        return [stemmer.stem(token) for token in tokens]\n",
        "    return tokens  # Return as is if not a list\n",
        "\n",
        "# Preprocess the combined reviews in both datasets\n",
        "for df in [train_df_sampled, test_df]:\n",
        "    df['cleaned_text'] = df['combined_text'].apply(clean_text)\n",
        "    df['tokenized_text'] = df['cleaned_text'].apply(tokenize_text)\n",
        "    df['no_stopwords_text'] = df['tokenized_text'].apply(remove_stopwords)\n",
        "    df['stemmed_text'] = df['no_stopwords_text'].apply(stem_tokens)\n"
      ],
      "metadata": {
        "id": "o8KDSjhu_Lcl"
      },
      "execution_count": 6,
      "outputs": []
    },
    {
      "cell_type": "code",
      "source": [
        "\n",
        "# Initialize TF-IDF vectorizer\n",
        "vectorizer = TfidfVectorizer(max_features=5000)\n",
        "\n",
        "# Fill NaN values with empty string before fitting\n",
        "train_df_sampled['combined_text'] = train_df_sampled['combined_text'].fillna('')\n",
        "X_train = vectorizer.fit_transform(train_df_sampled['combined_text']).toarray()  # Transform sampled train data\n",
        "\n",
        "# Fill NaN values with empty string before transforming\n",
        "test_df['combined_text'] = test_df['combined_text'].fillna('')\n",
        "X_test = vectorizer.transform(test_df['combined_text']).toarray()  # Transform test data\n",
        "\n",
        "# Define the target (sentiment) for both train and test datasets\n",
        "y_train = train_df_sampled['label']\n",
        "y_test = test_df['label']\n",
        "\n",
        "# Print the shape of the training and test DataFrames\n",
        "print(\"Training Data Shape:\", X_train.shape)\n",
        "print(\"Training Data Shape:\", y_train.shape)\n",
        "print(\"Test Data Shape:\", X_test.shape)\n",
        "print(\"Test Data Shape:\", y_test.shape)\n"
      ],
      "metadata": {
        "colab": {
          "base_uri": "https://localhost:8080/"
        },
        "id": "ZuopEsBn_QDr",
        "outputId": "92ab2c80-50f2-48d2-dec0-c01431762aa5"
      },
      "execution_count": 7,
      "outputs": [
        {
          "output_type": "stream",
          "name": "stdout",
          "text": [
            "Training Data Shape: (1800000, 5000)\n",
            "Training Data Shape: (1800000,)\n",
            "Test Data Shape: (400000, 5000)\n",
            "Test Data Shape: (400000,)\n"
          ]
        }
      ]
    },
    {
      "cell_type": "code",
      "source": [
        "\n",
        "# List of classifiers to train (here we use Logistic Regression)\n",
        "classifier = LogisticRegression(max_iter=1000)\n",
        "\n",
        "# Define a Stratified K-Fold cross-validation\n",
        "cv = StratifiedKFold(n_splits=5, shuffle=True, random_state=42)\n",
        "\n",
        "# Perform cross-validation and get accuracy for each fold\n",
        "cv_scores = cross_val_score(classifier, X_train, y_train, cv=cv, scoring='accuracy')\n",
        "\n",
        "# Print the cross-validation results\n",
        "print(f\"Cross-Validation Accuracy Scores: {cv_scores}\")\n",
        "print(f\"Mean CV Accuracy: {np.mean(cv_scores):.4f}\")\n",
        "print(f\"Standard Deviation of CV Accuracy: {np.std(cv_scores):.4f}\")\n",
        "\n",
        "# Fit the model on the entire training set after cross-validation\n",
        "classifier.fit(X_train, y_train)\n",
        "\n",
        "# Make predictions on the test data\n",
        "y_test_pred = classifier.predict(X_test)\n",
        "\n",
        "# Calculate accuracy on the test data\n",
        "test_accuracy = accuracy_score(y_test, y_test_pred)\n",
        "print(f\"Test Accuracy: {test_accuracy:.4f}\\n\")\n",
        "print(classification_report(y_test, y_test_pred))\n",
        "\n",
        "# Compute confusion matrix\n",
        "cm = confusion_matrix(y_test, y_test_pred)\n",
        "\n",
        "# Plot confusion matrix\n",
        "plt.figure(figsize=(8, 6))\n",
        "sns.heatmap(cm, annot=True, fmt='d', cmap='Blues',\n",
        "            xticklabels=['Negative', 'Positive'],\n",
        "            yticklabels=['Negative', 'Positive'])\n",
        "plt.title(f'Confusion Matrix for Logistic Regression')\n",
        "plt.xlabel('Predicted')\n",
        "plt.ylabel('True')\n",
        "plt.show()\n"
      ],
      "metadata": {
        "colab": {
          "base_uri": "https://localhost:8080/",
          "height": 819
        },
        "id": "M1h127MS_Ttv",
        "outputId": "3773d7d9-1637-4bf2-b0bf-1c2011d6c141"
      },
      "execution_count": 8,
      "outputs": [
        {
          "output_type": "stream",
          "name": "stdout",
          "text": [
            "Cross-Validation Accuracy Scores: [0.90207222 0.90098056 0.90078889 0.90263889 0.90172778]\n",
            "Mean CV Accuracy: 0.9016\n",
            "Standard Deviation of CV Accuracy: 0.0007\n",
            "Test Accuracy: 0.9020\n",
            "\n",
            "              precision    recall  f1-score   support\n",
            "\n",
            "           1       0.90      0.90      0.90    200000\n",
            "           2       0.90      0.90      0.90    200000\n",
            "\n",
            "    accuracy                           0.90    400000\n",
            "   macro avg       0.90      0.90      0.90    400000\n",
            "weighted avg       0.90      0.90      0.90    400000\n",
            "\n"
          ]
        },
        {
          "output_type": "display_data",
          "data": {
            "text/plain": [
              "<Figure size 800x600 with 2 Axes>"
            ],
            "image/png": "[encoded data removed]"
          },
          "metadata": {}
        }
      ]
    },
    {
      "cell_type": "code",
      "source": [
        "import joblib\n",
        "\n",
        "# Save the trained model to a file\n",
        "model_filename = 'logistic_regression_model.pkl'\n",
        "joblib.dump(classifier, model_filename)\n",
        "\n",
        "print(f\"Model saved as {model_filename}\")\n"
      ],
      "metadata": {
        "colab": {
          "base_uri": "https://localhost:8080/"
        },
        "id": "C9h06QZQ_0wH",
        "outputId": "5f0fb670-fe42-4cbe-c345-60066474a095"
      },
      "execution_count": 9,
      "outputs": [
        {
          "output_type": "stream",
          "name": "stdout",
          "text": [
            "Model saved as logistic_regression_model.pkl\n"
          ]
        }
      ]
    },
    {
      "cell_type": "code",
      "source": [],
      "metadata": {
        "id": "Lh1MB4y7EHeR"
      },
      "execution_count": null,
      "outputs": []
    }
  ]
}